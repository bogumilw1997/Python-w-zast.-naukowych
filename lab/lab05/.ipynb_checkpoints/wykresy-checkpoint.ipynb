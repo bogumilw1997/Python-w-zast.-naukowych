{
 "cells": [
  {
   "cell_type": "code",
   "execution_count": 15,
   "id": "1a32c956-b5f8-4e07-b37d-6b187e975616",
   "metadata": {},
   "outputs": [],
   "source": [
    "from bokeh.plotting import figure, show, row, column, output_file\n",
    "from bokeh.io import curdoc\n",
    "from bokeh.util.hex import hexbin\n",
    "from bokeh.transform import linear_cmap, factor_cmap\n",
    "from bokeh.layouts import layout\n",
    "import numpy as np\n",
    "import pandas as pd\n",
    "from bokeh.models import ColumnDataSource\n",
    "from bokeh.models.tools import HoverTool\n",
    "from bokeh.palettes import Spectral10, Plasma10\n",
    "from bokeh.palettes import Magma, Inferno, Plasma, Viridis, Cividis, Turbo"
   ]
  },
  {
   "cell_type": "code",
   "execution_count": 23,
   "id": "67ff4526-3cde-4690-8578-46c245ff64ff",
   "metadata": {},
   "outputs": [
    {
     "data": {
      "text/html": [
       "<div style=\"display: table;\"><div style=\"display: table-row;\"><div style=\"display: table-cell;\"><b title=\"bokeh.models.renderers.GlyphRenderer\">GlyphRenderer</b>(</div><div style=\"display: table-cell;\">id&nbsp;=&nbsp;'2156', <span id=\"2159\" style=\"cursor: pointer;\">&hellip;)</span></div></div><div class=\"2158\" style=\"display: none;\"><div style=\"display: table-cell;\"></div><div style=\"display: table-cell;\">coordinates&nbsp;=&nbsp;None,</div></div><div class=\"2158\" style=\"display: none;\"><div style=\"display: table-cell;\"></div><div style=\"display: table-cell;\">data_source&nbsp;=&nbsp;ColumnDataSource(id='2151', ...),</div></div><div class=\"2158\" style=\"display: none;\"><div style=\"display: table-cell;\"></div><div style=\"display: table-cell;\">glyph&nbsp;=&nbsp;VBar(id='2153', ...),</div></div><div class=\"2158\" style=\"display: none;\"><div style=\"display: table-cell;\"></div><div style=\"display: table-cell;\">group&nbsp;=&nbsp;None,</div></div><div class=\"2158\" style=\"display: none;\"><div style=\"display: table-cell;\"></div><div style=\"display: table-cell;\">hover_glyph&nbsp;=&nbsp;None,</div></div><div class=\"2158\" style=\"display: none;\"><div style=\"display: table-cell;\"></div><div style=\"display: table-cell;\">js_event_callbacks&nbsp;=&nbsp;{},</div></div><div class=\"2158\" style=\"display: none;\"><div style=\"display: table-cell;\"></div><div style=\"display: table-cell;\">js_property_callbacks&nbsp;=&nbsp;{},</div></div><div class=\"2158\" style=\"display: none;\"><div style=\"display: table-cell;\"></div><div style=\"display: table-cell;\">level&nbsp;=&nbsp;'glyph',</div></div><div class=\"2158\" style=\"display: none;\"><div style=\"display: table-cell;\"></div><div style=\"display: table-cell;\">muted&nbsp;=&nbsp;False,</div></div><div class=\"2158\" style=\"display: none;\"><div style=\"display: table-cell;\"></div><div style=\"display: table-cell;\">muted_glyph&nbsp;=&nbsp;VBar(id='2155', ...),</div></div><div class=\"2158\" style=\"display: none;\"><div style=\"display: table-cell;\"></div><div style=\"display: table-cell;\">name&nbsp;=&nbsp;None,</div></div><div class=\"2158\" style=\"display: none;\"><div style=\"display: table-cell;\"></div><div style=\"display: table-cell;\">nonselection_glyph&nbsp;=&nbsp;VBar(id='2154', ...),</div></div><div class=\"2158\" style=\"display: none;\"><div style=\"display: table-cell;\"></div><div style=\"display: table-cell;\">selection_glyph&nbsp;=&nbsp;'auto',</div></div><div class=\"2158\" style=\"display: none;\"><div style=\"display: table-cell;\"></div><div style=\"display: table-cell;\">subscribed_events&nbsp;=&nbsp;[],</div></div><div class=\"2158\" style=\"display: none;\"><div style=\"display: table-cell;\"></div><div style=\"display: table-cell;\">syncable&nbsp;=&nbsp;True,</div></div><div class=\"2158\" style=\"display: none;\"><div style=\"display: table-cell;\"></div><div style=\"display: table-cell;\">tags&nbsp;=&nbsp;[],</div></div><div class=\"2158\" style=\"display: none;\"><div style=\"display: table-cell;\"></div><div style=\"display: table-cell;\">view&nbsp;=&nbsp;CDSView(id='2157', ...),</div></div><div class=\"2158\" style=\"display: none;\"><div style=\"display: table-cell;\"></div><div style=\"display: table-cell;\">visible&nbsp;=&nbsp;True,</div></div><div class=\"2158\" style=\"display: none;\"><div style=\"display: table-cell;\"></div><div style=\"display: table-cell;\">x_range_name&nbsp;=&nbsp;'default',</div></div><div class=\"2158\" style=\"display: none;\"><div style=\"display: table-cell;\"></div><div style=\"display: table-cell;\">y_range_name&nbsp;=&nbsp;'default')</div></div></div>\n",
       "<script>\n",
       "(function() {\n",
       "  let expanded = false;\n",
       "  const ellipsis = document.getElementById(\"2159\");\n",
       "  ellipsis.addEventListener(\"click\", function() {\n",
       "    const rows = document.getElementsByClassName(\"2158\");\n",
       "    for (let i = 0; i < rows.length; i++) {\n",
       "      const el = rows[i];\n",
       "      el.style.display = expanded ? \"none\" : \"table-row\";\n",
       "    }\n",
       "    ellipsis.innerHTML = expanded ? \"&hellip;)\" : \"&lsaquo;&lsaquo;&lsaquo;\";\n",
       "    expanded = !expanded;\n",
       "  });\n",
       "})();\n",
       "</script>\n"
      ],
      "text/plain": [
       "GlyphRenderer(id='2156', ...)"
      ]
     },
     "execution_count": 23,
     "metadata": {},
     "output_type": "execute_result"
    }
   ],
   "source": [
    "data = pd.read_json('data/data.json', orient=\"split\")\n",
    "\n",
    "data.columns = ['Country', 'Deaths_per_million', 'Deaths', 'Cases']\n",
    "\n",
    "top_df = data.head(10)\n",
    "countries = top_df['Country'].tolist()\n",
    "countries = data['Country'].tolist()\n",
    "p = figure(x_range=countries, title=\"COVID-19 Deaths per milion per Country\", sizing_mode = 'stretch_width', x_axis_label = 'Country', y_axis_label = 'Deaths per million')\n",
    "p.vbar(x='Country', top='Deaths_per_million', source=data)\n",
    "#fill_color=factor_cmap('Country', palette=Spectral10, factors=countries)\n",
    "#hover = HoverTool()\n",
    "#hover.tooltips=[('Country', '@Country'),('Deaths per million', '@Deaths_per_million')]\n",
    "#hover.mode = 'vline'\n",
    "#p.add_tools(hover)"
   ]
  },
  {
   "cell_type": "code",
   "execution_count": 22,
   "id": "497805a0-6b38-4146-a390-7dc2e489486d",
   "metadata": {},
   "outputs": [],
   "source": [
    "show(p3)"
   ]
  },
  {
   "cell_type": "code",
   "execution_count": 16,
   "id": "d8eb04ee-7b7b-4c13-9dc7-134b5cab7ce5",
   "metadata": {},
   "outputs": [],
   "source": []
  },
  {
   "cell_type": "code",
   "execution_count": null,
   "id": "c2ca0efa-b78e-461e-923a-93fbe3a4c1e4",
   "metadata": {},
   "outputs": [],
   "source": []
  }
 ],
 "metadata": {
  "kernelspec": {
   "display_name": "Python 3 (ipykernel)",
   "language": "python",
   "name": "python3"
  },
  "language_info": {
   "codemirror_mode": {
    "name": "ipython",
    "version": 3
   },
   "file_extension": ".py",
   "mimetype": "text/x-python",
   "name": "python",
   "nbconvert_exporter": "python",
   "pygments_lexer": "ipython3",
   "version": "3.9.6"
  }
 },
 "nbformat": 4,
 "nbformat_minor": 5
}
